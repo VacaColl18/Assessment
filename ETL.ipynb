{
 "cells": [
  {
   "cell_type": "code",
   "execution_count": 2,
   "metadata": {},
   "outputs": [],
   "source": [
    "#Librerias necesarias para la exploracion de datos\n",
    "\n",
    "import pandas as pd\n",
    "import seaborn as sns\n",
    "import matplotlib.pyplot as plt\n",
    "from matplotlib.dates import DateFormatter\n",
    "import numpy as np\n",
    "import warnings\n",
    "warnings.filterwarnings('ignore') "
   ]
  },
  {
   "cell_type": "code",
   "execution_count": 3,
   "metadata": {},
   "outputs": [],
   "source": [
    "#Cargo el archivo proporcionado por Vozy\n",
    "\n",
    "df = pd.read_csv(r\"src/Empresa X Info Septiembre 2023.csv\", sep=\";\")"
   ]
  },
  {
   "cell_type": "code",
   "execution_count": 4,
   "metadata": {},
   "outputs": [
    {
     "name": "stdout",
     "output_type": "stream",
     "text": [
      "<class 'pandas.core.frame.DataFrame'>\n",
      "RangeIndex: 28391 entries, 0 to 28390\n",
      "Data columns (total 54 columns):\n",
      " #   Column                     Non-Null Count  Dtype  \n",
      "---  ------                     --------------  -----  \n",
      " 0   session_id                 28391 non-null  object \n",
      " 1   date                       28391 non-null  object \n",
      " 2   hour                       28391 non-null  object \n",
      " 3   Contacted                  28391 non-null  bool   \n",
      " 4   Answered                   28391 non-null  bool   \n",
      " 5   contact_confirmed          28391 non-null  bool   \n",
      " 6   contactability_type        2326 non-null   object \n",
      " 7   engagement                 28391 non-null  bool   \n",
      " 8   Success                    28391 non-null  bool   \n",
      " 9   success_type               339 non-null    object \n",
      " 10  retention                  28391 non-null  bool   \n",
      " 11  recall                     28391 non-null  bool   \n",
      " 12  recall_type                100 non-null    object \n",
      " 13  call_fallback              28391 non-null  bool   \n",
      " 14  fallback_type              29 non-null     object \n",
      " 15  ContactID                  28390 non-null  object \n",
      " 16  Phone                      28391 non-null  object \n",
      " 17  HangUPCause                28380 non-null  object \n",
      " 18  LastNode                   5286 non-null   object \n",
      " 19  CampaignName               28389 non-null  object \n",
      " 20  duration                   28391 non-null  int64  \n",
      " 21  Compromiso pago            720 non-null    object \n",
      " 22  Slot para buzones de voz   315 non-null    float64\n",
      " 23  Comentario no pago         135 non-null    object \n",
      " 24  denials                    0 non-null      float64\n",
      " 25  in_schedule                176 non-null    object \n",
      " 26  denials_pay                279 non-null    object \n",
      " 27  affirmations               0 non-null      float64\n",
      " 28  get person                 46 non-null     object \n",
      " 29  affirmations_contact       1502 non-null   object \n",
      " 30  unavailable                5 non-null      object \n",
      " 31  affirmations_pay           132 non-null    object \n",
      " 32  family                     39 non-null     object \n",
      " 33  numdate                    38 non-null     float64\n",
      " 34  imprecisemonth             2 non-null      object \n",
      " 35  alreadypaid                13 non-null     object \n",
      " 36  recall.1                   5 non-null      object \n",
      " 37  callorigin                 465 non-null    object \n",
      " 38  repeat                     287 non-null    object \n",
      " 39  dates                      344 non-null    object \n",
      " 40  denials_contact            471 non-null    object \n",
      " 41  Límite días                28389 non-null  float64\n",
      " 42  Producto                   28389 non-null  object \n",
      " 43  Fecha máxima               28389 non-null  object \n",
      " 44  Divisa                     28389 non-null  object \n",
      " 45  Cantidad                   28389 non-null  float64\n",
      " 46  voicemail                  7414 non-null   object \n",
      " 47  automatic_flow             28391 non-null  bool   \n",
      " 48  automatic_flow_start       28391 non-null  bool   \n",
      " 49  sent_sms_nodes             0 non-null      float64\n",
      " 50  sent_whatsapp_nodes        0 non-null      float64\n",
      " 51  Automated Flow ID          0 non-null      float64\n",
      " 52  Flow Campaign ID           0 non-null      float64\n",
      " 53  Contact ID Automated Flow  0 non-null      float64\n",
      "dtypes: bool(10), float64(11), int64(1), object(32)\n",
      "memory usage: 9.8+ MB\n"
     ]
    }
   ],
   "source": [
    "# exploro la informacion de las columnas y los tipos de datos que tiene\n",
    "\n",
    "df.info()"
   ]
  },
  {
   "cell_type": "code",
   "execution_count": 5,
   "metadata": {},
   "outputs": [
    {
     "name": "stdout",
     "output_type": "stream",
     "text": [
      "<class 'pandas.core.frame.DataFrame'>\n",
      "RangeIndex: 28391 entries, 0 to 28390\n",
      "Data columns (total 47 columns):\n",
      " #   Column                    Non-Null Count  Dtype  \n",
      "---  ------                    --------------  -----  \n",
      " 0   session_id                28391 non-null  object \n",
      " 1   date                      28391 non-null  object \n",
      " 2   hour                      28391 non-null  object \n",
      " 3   Contacted                 28391 non-null  bool   \n",
      " 4   Answered                  28391 non-null  bool   \n",
      " 5   contact_confirmed         28391 non-null  bool   \n",
      " 6   contactability_type       2326 non-null   object \n",
      " 7   engagement                28391 non-null  bool   \n",
      " 8   Success                   28391 non-null  bool   \n",
      " 9   success_type              339 non-null    object \n",
      " 10  retention                 28391 non-null  bool   \n",
      " 11  recall                    28391 non-null  bool   \n",
      " 12  recall_type               100 non-null    object \n",
      " 13  call_fallback             28391 non-null  bool   \n",
      " 14  fallback_type             29 non-null     object \n",
      " 15  ContactID                 28390 non-null  object \n",
      " 16  Phone                     28391 non-null  object \n",
      " 17  HangUPCause               28380 non-null  object \n",
      " 18  LastNode                  5286 non-null   object \n",
      " 19  CampaignName              28389 non-null  object \n",
      " 20  duration                  28391 non-null  int64  \n",
      " 21  Compromiso pago           720 non-null    object \n",
      " 22  Slot para buzones de voz  315 non-null    float64\n",
      " 23  Comentario no pago        135 non-null    object \n",
      " 24  in_schedule               176 non-null    object \n",
      " 25  denials_pay               279 non-null    object \n",
      " 26  get person                46 non-null     object \n",
      " 27  affirmations_contact      1502 non-null   object \n",
      " 28  unavailable               5 non-null      object \n",
      " 29  affirmations_pay          132 non-null    object \n",
      " 30  family                    39 non-null     object \n",
      " 31  numdate                   38 non-null     float64\n",
      " 32  imprecisemonth            2 non-null      object \n",
      " 33  alreadypaid               13 non-null     object \n",
      " 34  recall.1                  5 non-null      object \n",
      " 35  callorigin                465 non-null    object \n",
      " 36  repeat                    287 non-null    object \n",
      " 37  dates                     344 non-null    object \n",
      " 38  denials_contact           471 non-null    object \n",
      " 39  Límite días               28389 non-null  float64\n",
      " 40  Producto                  28389 non-null  object \n",
      " 41  Fecha máxima              28389 non-null  object \n",
      " 42  Divisa                    28389 non-null  object \n",
      " 43  Cantidad                  28389 non-null  float64\n",
      " 44  voicemail                 7414 non-null   object \n",
      " 45  automatic_flow            28391 non-null  bool   \n",
      " 46  automatic_flow_start      28391 non-null  bool   \n",
      "dtypes: bool(10), float64(4), int64(1), object(32)\n",
      "memory usage: 8.3+ MB\n"
     ]
    }
   ],
   "source": [
    "# Elimino las columnas que no tengan ningun tipo de registro\n",
    "\n",
    "df = df.dropna(axis=1, how='all')\n",
    "df.info()"
   ]
  },
  {
   "cell_type": "code",
   "execution_count": 6,
   "metadata": {},
   "outputs": [
    {
     "data": {
      "text/plain": [
       "Answered                        2\n",
       "CampaignName                   14\n",
       "Cantidad                     8503\n",
       "Comentario no pago            122\n",
       "Compromiso pago                 5\n",
       "ContactID                   22358\n",
       "Contacted                       2\n",
       "Divisa                          1\n",
       "Fecha máxima                  350\n",
       "HangUPCause                     9\n",
       "LastNode                       20\n",
       "Límite días                     2\n",
       "Phone                        8292\n",
       "Producto                        1\n",
       "Slot para buzones de voz      139\n",
       "Success                         2\n",
       "affirmations_contact            8\n",
       "affirmations_pay                7\n",
       "alreadypaid                     4\n",
       "automatic_flow                  1\n",
       "automatic_flow_start            1\n",
       "call_fallback                   2\n",
       "callorigin                      8\n",
       "contact_confirmed               2\n",
       "contactability_type             5\n",
       "date                           15\n",
       "dates                          41\n",
       "denials_contact                 5\n",
       "denials_pay                     8\n",
       "duration                      146\n",
       "engagement                      2\n",
       "fallback_type                   1\n",
       "family                          1\n",
       "get person                     35\n",
       "hour                          587\n",
       "imprecisemonth                  2\n",
       "in_schedule                     2\n",
       "numdate                        14\n",
       "recall                          2\n",
       "recall.1                        3\n",
       "recall_type                     1\n",
       "repeat                         18\n",
       "retention                       2\n",
       "session_id                  28391\n",
       "success_type                    2\n",
       "unavailable                     1\n",
       "voicemail                       1\n",
       "dtype: int64"
      ]
     },
     "execution_count": 6,
     "metadata": {},
     "output_type": "execute_result"
    }
   ],
   "source": [
    "# Veo si alguna columna solo tiene un tipo de valor. \n",
    "\n",
    "unique_value_counts = df.nunique()\n",
    "unique_value_counts = unique_value_counts.sort_index()\n",
    "unique_value_counts"
   ]
  },
  {
   "cell_type": "code",
   "execution_count": 7,
   "metadata": {},
   "outputs": [
    {
     "data": {
      "text/plain": [
       "array([False])"
      ]
     },
     "execution_count": 7,
     "metadata": {},
     "output_type": "execute_result"
    }
   ],
   "source": [
    "# Hay columnas que no tienen valores nulos pero solo tienen un registro unico. Observo cual es, para ver si es reelevante.\n",
    "\n",
    "automatic_flow = df[\"automatic_flow\"].unique()\n",
    "automatic_flow"
   ]
  },
  {
   "cell_type": "code",
   "execution_count": 8,
   "metadata": {},
   "outputs": [
    {
     "data": {
      "text/plain": [
       "array([False])"
      ]
     },
     "execution_count": 8,
     "metadata": {},
     "output_type": "execute_result"
    }
   ],
   "source": [
    "automatic_flow_start = df[\"automatic_flow_start\"].unique()\n",
    "automatic_flow_start"
   ]
  },
  {
   "cell_type": "code",
   "execution_count": 9,
   "metadata": {},
   "outputs": [
    {
     "data": {
      "text/plain": [
       "array([nan, True], dtype=object)"
      ]
     },
     "execution_count": 9,
     "metadata": {},
     "output_type": "execute_result"
    }
   ],
   "source": [
    "voicemail = df[\"voicemail\"].unique()\n",
    "voicemail"
   ]
  },
  {
   "cell_type": "code",
   "execution_count": 10,
   "metadata": {},
   "outputs": [
    {
     "data": {
      "text/plain": [
       "array(['Dolares', nan], dtype=object)"
      ]
     },
     "execution_count": 10,
     "metadata": {},
     "output_type": "execute_result"
    }
   ],
   "source": [
    "Divisa = df[\"Divisa\"].unique()\n",
    "Divisa"
   ]
  },
  {
   "cell_type": "code",
   "execution_count": 11,
   "metadata": {},
   "outputs": [
    {
     "data": {
      "text/plain": [
       "array(['Caaja Chiica', nan], dtype=object)"
      ]
     },
     "execution_count": 11,
     "metadata": {},
     "output_type": "execute_result"
    }
   ],
   "source": [
    "Producto = df[\"Producto\"].unique()\n",
    "Producto"
   ]
  },
  {
   "cell_type": "code",
   "execution_count": 12,
   "metadata": {},
   "outputs": [],
   "source": [
    "#Elimino las columnas que solo tiene un registro unico, o no aportan información reelevante para el analisis.\n",
    "\n",
    "df_clean = df.drop(columns=[\"automatic_flow\", \n",
    "                            \"automatic_flow_start\", \n",
    "                            \"voicemail\", \n",
    "                            \"Divisa\", \n",
    "                            \"Producto\", \n",
    "                            \"engagement\", \n",
    "                            \"Success\", \n",
    "                            \"retention\", \n",
    "                            \"fallback_type\", \n",
    "                            \"call_fallback\", \n",
    "                            \"recall_type\", \n",
    "                            \"recall\", \n",
    "                            \"Slot para buzones de voz\", \n",
    "                            \"Comentario no pago\", \n",
    "                            \"in_schedule\",\n",
    "                            'denials_pay',\n",
    "                            \"get person\",\n",
    "                            \"affirmations_contact\",\n",
    "                            \"unavailable\",\n",
    "                            \"affirmations_pay\",\n",
    "                            \"family\",\n",
    "                            \"numdate\",\n",
    "                            \"imprecisemonth\",\n",
    "                            \"alreadypaid\",\n",
    "                            \"callorigin\",\n",
    "                            \"repeat\",\n",
    "                            \"denials_contact\",\n",
    "                            \"Límite días\",\n",
    "                            \"Fecha máxima\",])"
   ]
  },
  {
   "cell_type": "code",
   "execution_count": 13,
   "metadata": {},
   "outputs": [
    {
     "data": {
      "image/png": "[encoded data removed]",
      "text/plain": [
       "<Figure size 1000x800 with 2 Axes>"
      ]
     },
     "metadata": {},
     "output_type": "display_data"
    }
   ],
   "source": [
    "# Observo la correlación entre las variables numéricas y booleanas, con el fin de eliminar informacion redundante\n",
    "\n",
    "numeric_columns = df_clean.select_dtypes(include=['int64', 'float64', 'bool'])\n",
    "correlation_matrix = numeric_columns.corr()\n",
    "plt.figure(figsize=(10, 8))\n",
    "sns.heatmap(correlation_matrix, annot=True, cmap=\"coolwarm\", linewidths=.5)\n",
    "plt.show()\n"
   ]
  },
  {
   "cell_type": "code",
   "execution_count": 14,
   "metadata": {},
   "outputs": [
    {
     "name": "stdout",
     "output_type": "stream",
     "text": [
      "<class 'pandas.core.frame.DataFrame'>\n",
      "RangeIndex: 28391 entries, 0 to 28390\n",
      "Data columns (total 18 columns):\n",
      " #   Column               Non-Null Count  Dtype  \n",
      "---  ------               --------------  -----  \n",
      " 0   session_id           28391 non-null  object \n",
      " 1   date                 28391 non-null  object \n",
      " 2   hour                 28391 non-null  object \n",
      " 3   Contacted            28391 non-null  bool   \n",
      " 4   Answered             28391 non-null  bool   \n",
      " 5   contact_confirmed    28391 non-null  bool   \n",
      " 6   contactability_type  2326 non-null   object \n",
      " 7   success_type         339 non-null    object \n",
      " 8   ContactID            28390 non-null  object \n",
      " 9   Phone                28391 non-null  object \n",
      " 10  HangUPCause          28380 non-null  object \n",
      " 11  LastNode             5286 non-null   object \n",
      " 12  CampaignName         28389 non-null  object \n",
      " 13  duration             28391 non-null  int64  \n",
      " 14  Compromiso pago      720 non-null    object \n",
      " 15  recall.1             5 non-null      object \n",
      " 16  dates                344 non-null    object \n",
      " 17  Cantidad             28389 non-null  float64\n",
      "dtypes: bool(3), float64(1), int64(1), object(13)\n",
      "memory usage: 3.3+ MB\n"
     ]
    }
   ],
   "source": [
    "df_clean.info()"
   ]
  },
  {
   "cell_type": "code",
   "execution_count": 15,
   "metadata": {},
   "outputs": [],
   "source": [
    "df_clean.to_csv('data\\df_powerbi.csv', sep=\";\", index=False)"
   ]
  },
  {
   "cell_type": "code",
   "execution_count": 16,
   "metadata": {},
   "outputs": [
    {
     "data": {
      "text/html": [
       "<div>\n",
       "<style scoped>\n",
       "    .dataframe tbody tr th:only-of-type {\n",
       "        vertical-align: middle;\n",
       "    }\n",
       "\n",
       "    .dataframe tbody tr th {\n",
       "        vertical-align: top;\n",
       "    }\n",
       "\n",
       "    .dataframe thead th {\n",
       "        text-align: right;\n",
       "    }\n",
       "</style>\n",
       "<table border=\"1\" class=\"dataframe\">\n",
       "  <thead>\n",
       "    <tr style=\"text-align: right;\">\n",
       "      <th></th>\n",
       "      <th>session_id</th>\n",
       "      <th>date</th>\n",
       "      <th>hour</th>\n",
       "      <th>Contacted</th>\n",
       "      <th>Answered</th>\n",
       "      <th>contact_confirmed</th>\n",
       "      <th>contactability_type</th>\n",
       "      <th>success_type</th>\n",
       "      <th>ContactID</th>\n",
       "      <th>Phone</th>\n",
       "      <th>HangUPCause</th>\n",
       "      <th>LastNode</th>\n",
       "      <th>CampaignName</th>\n",
       "      <th>duration</th>\n",
       "      <th>Compromiso pago</th>\n",
       "      <th>recall.1</th>\n",
       "      <th>dates</th>\n",
       "      <th>Cantidad</th>\n",
       "    </tr>\n",
       "  </thead>\n",
       "  <tbody>\n",
       "    <tr>\n",
       "      <th>0</th>\n",
       "      <td>sid-e8738ea4-c53e-4c92-a181-26b2b406f4b3-16961...</td>\n",
       "      <td>30/09/2023</td>\n",
       "      <td>3:12 PM</td>\n",
       "      <td>True</td>\n",
       "      <td>True</td>\n",
       "      <td>True</td>\n",
       "      <td>Contacto sí</td>\n",
       "      <td>NaN</td>\n",
       "      <td>bef6bf43-7c49-4197-9bf4-d0f04ffbfc70</td>\n",
       "      <td>50688371423</td>\n",
       "      <td>CALL_ENDED_PROPERLY</td>\n",
       "      <td>5_wont_pay</td>\n",
       "      <td>Cobro 3 - 15 30_09_23</td>\n",
       "      <td>97</td>\n",
       "      <td>No</td>\n",
       "      <td>NaN</td>\n",
       "      <td>NaN</td>\n",
       "      <td>29828.04</td>\n",
       "    </tr>\n",
       "    <tr>\n",
       "      <th>1</th>\n",
       "      <td>21354ec4-03b3-4cba-bbd1-d82ece1e4678</td>\n",
       "      <td>30/09/2023</td>\n",
       "      <td>3:11 PM</td>\n",
       "      <td>False</td>\n",
       "      <td>False</td>\n",
       "      <td>False</td>\n",
       "      <td>NaN</td>\n",
       "      <td>NaN</td>\n",
       "      <td>8c18142a-38f9-4e97-b373-014a5312b73b</td>\n",
       "      <td>50689827540</td>\n",
       "      <td>VOICEMAIL</td>\n",
       "      <td>NaN</td>\n",
       "      <td>Cobro 3 - 15 30_09_23</td>\n",
       "      <td>1</td>\n",
       "      <td>NaN</td>\n",
       "      <td>NaN</td>\n",
       "      <td>NaN</td>\n",
       "      <td>17119.84</td>\n",
       "    </tr>\n",
       "    <tr>\n",
       "      <th>2</th>\n",
       "      <td>sid-023d3a10-0178-4f59-9abc-8aa470c64f09-16961...</td>\n",
       "      <td>30/09/2023</td>\n",
       "      <td>3:11 PM</td>\n",
       "      <td>True</td>\n",
       "      <td>True</td>\n",
       "      <td>True</td>\n",
       "      <td>Contacto sí</td>\n",
       "      <td>NaN</td>\n",
       "      <td>bb1d1673-9bb2-4913-ac60-c6f4b54846f6</td>\n",
       "      <td>50660284090</td>\n",
       "      <td>USER_HANGUP</td>\n",
       "      <td>4_novalid_date</td>\n",
       "      <td>Cobro 3 - 15 30_09_23</td>\n",
       "      <td>66</td>\n",
       "      <td>No</td>\n",
       "      <td>NaN</td>\n",
       "      <td>NaN</td>\n",
       "      <td>2232.54</td>\n",
       "    </tr>\n",
       "    <tr>\n",
       "      <th>3</th>\n",
       "      <td>sid-6e3f8f3f-b66f-42ab-bb62-d161a294f442-16961...</td>\n",
       "      <td>30/09/2023</td>\n",
       "      <td>3:11 PM</td>\n",
       "      <td>True</td>\n",
       "      <td>True</td>\n",
       "      <td>True</td>\n",
       "      <td>Contacto sí</td>\n",
       "      <td>Compromiso pago</td>\n",
       "      <td>0f200b40-c67d-4186-bee8-5d2413eb466c</td>\n",
       "      <td>50685060916</td>\n",
       "      <td>USER_HANGUP</td>\n",
       "      <td>3_payment_yes_today</td>\n",
       "      <td>Cobro 3 - 15 30_09_23</td>\n",
       "      <td>56</td>\n",
       "      <td>Sí</td>\n",
       "      <td>NaN</td>\n",
       "      <td>hoy</td>\n",
       "      <td>2575.78</td>\n",
       "    </tr>\n",
       "    <tr>\n",
       "      <th>4</th>\n",
       "      <td>33129915-af8d-4aab-a5c9-3929e8ef6c7b</td>\n",
       "      <td>30/09/2023</td>\n",
       "      <td>3:10 PM</td>\n",
       "      <td>False</td>\n",
       "      <td>False</td>\n",
       "      <td>False</td>\n",
       "      <td>NaN</td>\n",
       "      <td>NaN</td>\n",
       "      <td>1564ada3-c16d-42d6-af67-475f331ef3ec</td>\n",
       "      <td>50662990578</td>\n",
       "      <td>VOICEMAIL</td>\n",
       "      <td>NaN</td>\n",
       "      <td>Cobro 3 - 15 30_09_23</td>\n",
       "      <td>1</td>\n",
       "      <td>NaN</td>\n",
       "      <td>NaN</td>\n",
       "      <td>NaN</td>\n",
       "      <td>12494.80</td>\n",
       "    </tr>\n",
       "  </tbody>\n",
       "</table>\n",
       "</div>"
      ],
      "text/plain": [
       "                                          session_id        date     hour  \\\n",
       "0  sid-e8738ea4-c53e-4c92-a181-26b2b406f4b3-16961...  30/09/2023  3:12 PM   \n",
       "1               21354ec4-03b3-4cba-bbd1-d82ece1e4678  30/09/2023  3:11 PM   \n",
       "2  sid-023d3a10-0178-4f59-9abc-8aa470c64f09-16961...  30/09/2023  3:11 PM   \n",
       "3  sid-6e3f8f3f-b66f-42ab-bb62-d161a294f442-16961...  30/09/2023  3:11 PM   \n",
       "4               33129915-af8d-4aab-a5c9-3929e8ef6c7b  30/09/2023  3:10 PM   \n",
       "\n",
       "   Contacted  Answered  contact_confirmed contactability_type  \\\n",
       "0       True      True               True         Contacto sí   \n",
       "1      False     False              False                 NaN   \n",
       "2       True      True               True         Contacto sí   \n",
       "3       True      True               True         Contacto sí   \n",
       "4      False     False              False                 NaN   \n",
       "\n",
       "      success_type                             ContactID        Phone  \\\n",
       "0              NaN  bef6bf43-7c49-4197-9bf4-d0f04ffbfc70  50688371423   \n",
       "1              NaN  8c18142a-38f9-4e97-b373-014a5312b73b  50689827540   \n",
       "2              NaN  bb1d1673-9bb2-4913-ac60-c6f4b54846f6  50660284090   \n",
       "3  Compromiso pago  0f200b40-c67d-4186-bee8-5d2413eb466c  50685060916   \n",
       "4              NaN  1564ada3-c16d-42d6-af67-475f331ef3ec  50662990578   \n",
       "\n",
       "           HangUPCause             LastNode           CampaignName  duration  \\\n",
       "0  CALL_ENDED_PROPERLY           5_wont_pay  Cobro 3 - 15 30_09_23        97   \n",
       "1            VOICEMAIL                  NaN  Cobro 3 - 15 30_09_23         1   \n",
       "2          USER_HANGUP       4_novalid_date  Cobro 3 - 15 30_09_23        66   \n",
       "3          USER_HANGUP  3_payment_yes_today  Cobro 3 - 15 30_09_23        56   \n",
       "4            VOICEMAIL                  NaN  Cobro 3 - 15 30_09_23         1   \n",
       "\n",
       "  Compromiso pago recall.1 dates  Cantidad  \n",
       "0              No      NaN   NaN  29828.04  \n",
       "1             NaN      NaN   NaN  17119.84  \n",
       "2              No      NaN   NaN   2232.54  \n",
       "3              Sí      NaN   hoy   2575.78  \n",
       "4             NaN      NaN   NaN  12494.80  "
      ]
     },
     "execution_count": 16,
     "metadata": {},
     "output_type": "execute_result"
    }
   ],
   "source": [
    "df_clean.head()"
   ]
  },
  {
   "cell_type": "code",
   "execution_count": 17,
   "metadata": {},
   "outputs": [
    {
     "name": "stdout",
     "output_type": "stream",
     "text": [
      "Empty DataFrame\n",
      "Columns: [session_id, date, hour, Contacted, Answered, contact_confirmed, contactability_type, success_type, ContactID, Phone, HangUPCause, LastNode, CampaignName, duration, Compromiso pago, recall.1, dates, Cantidad]\n",
      "Index: []\n"
     ]
    }
   ],
   "source": [
    "# compruebo si hay duplicados\n",
    "duplicates = df_clean[df_clean.duplicated()]\n",
    "\n",
    "print(duplicates)\n"
   ]
  },
  {
   "cell_type": "code",
   "execution_count": 18,
   "metadata": {},
   "outputs": [],
   "source": [
    "df_clean.to_csv('data\\df_clean.csv', sep=\";\", index=False)"
   ]
  },
  {
   "cell_type": "markdown",
   "metadata": {},
   "source": [
    "Durante el análisis de los datos del mes de septiembre, identifiqué un total de acuerdos de pago que alcanzaron $10,285,458.98. Sin embargo, observo que había duplicados en los registros. Esto puede atribuirse a diversos factores, como la participación de un mismo usuario en varias campañas o el incumplimiento de plazos.\n",
    "\n",
    "Para obtener resultados más precisos, eliminé los duplicados y se conservé únicamente las propuestas más recientes que pertenecían a la misma deuda, siempre y cuando el monto fuera idéntico.\n",
    "\n",
    "Como resultado, obtuve que en septiembre se alcanzó un total de $9,541,661.72 en acuerdos de pago. Este monto supera el objetivo establecido por el cliente, que era de $8,000,000.\n",
    "\n",
    "En cuanto al cumplimiento del objetivo, el mes fue exitoso, ya que éste fué superado en un 19.27%.\n",
    "Sin embargo para afirmar esto con mas precisión, me gustaría realizar las siguientes comparaciones:\n",
    "\n",
    "1. Evaluar si el desempeño de septiembre es consistente con la media de acuerdos de pago a lo largo del año.\n",
    "\n",
    "2. Comparar los resultados con septiembres de años anteriores para determinar si la mejora es sostenible.\n",
    "\n",
    "3. Analizar cómo se compara septiembre con los otros meses del año en términos de acuerdos de pago."
   ]
  },
  {
   "cell_type": "markdown",
   "metadata": {},
   "source": [
    "2. Cual es el valor promedio de acuerdos de pago por usuario único para el mes de septiembre?"
   ]
  },
  {
   "cell_type": "markdown",
   "metadata": {},
   "source": [
    "Basado en el análisis de los datos de acuerdos de pago para el mes de septiembre, puedo observar que el valor promedio fue de 34696.95, mientras que la mediana, que representa el valor que divide a la muestra en dos mitades iguales, fué de 28392.0.\n",
    "\n",
    "La mediana es una métrica que no se ve afectada por valores extremos (Outliers) y proporciona una representación más precisa del monto de la mayoría de los acuerdos de pago."
   ]
  },
  {
   "cell_type": "markdown",
   "metadata": {},
   "source": [
    "3. El cliente espera tener un 35% de contestación durante el mes de septiembre, según tu análisis cual fue el resultado de este ítem? Fue bueno o malo? y por que?"
   ]
  },
  {
   "cell_type": "markdown",
   "metadata": {},
   "source": [
    "El resultado del porcentaje de contestación durante el mes de septiembre fue del 10.41%. Teniendo en cuenta el objetivo del cliente de alcanzar un 35%, este resultado puede considerarse malo.\n",
    "\n",
    "Sin embargo este porcentaje se calcula con el número total de llamadas realizadas y las respuestas recibidas. Este cálculo puede no reflejar completamente la efectividad de las gestiones, ya que no tiene en cuenta el número de llamadas realizadas hasta lograr el contacto exitoso.\n",
    "\n",
    "Como se puede observar en el gráfico, mas del 40% de usuarios, requirió ser llamado 3 veces para lograr la contactación.\n",
    "\n",
    "Por este motivo consideré relevante también, evaluar el porcentaje por usuario único. Al hacerlo, obtuve una métrica que proporciona una visión más precisa de cuántos usuarios se contactaron exitosamente durante el mes de septiembre, lo que puede ser más representativo de la efectividad de las gestiones.\n",
    "\n",
    "Por lo tanto, el porcentaje de contestación del 10.41% es bajo en comparación con el objetivo del 35%. \n",
    "Considerando la métrica alternativa, el porcentaje de contestación por usuario único fue de 27.53%. Creo que este dato da una imagen más completa de la efectividad de las llamadas."
   ]
  },
  {
   "cell_type": "markdown",
   "metadata": {},
   "source": [
    "4. De las llamadas contestadas se espera que al menos el 50% sean titulares, cuéntanos en el mes de septiembre, según tu análisis como estuvo este resultado?"
   ]
  },
  {
   "cell_type": "markdown",
   "metadata": {},
   "source": [
    "En general, el porcentaje de llamadas contestadas fue del 55.09%. Considerando el campo \"contactability_type\" en el que, según el diccionario de datos, \"Contacto Sí\" confirma que se trata de un usuario titular.\n",
    "\n",
    "Luego incluyo registros donde la titularidad se confirma a través de la columna \"contact_confirmed,\" en este caso, se obtiene un resultado del 56.86%.\n",
    "\n",
    "Continuando con el enfoque en el índice de contactabilidad, se procedió a eliminar las llamadas duplicadas que podrían distorsionar los datos. Esto se debe a que en las llamadas en las que el usuario no confirma ser titular o en las que atiende otra persona, es probable que se realicen nuevos intentos de llamada en futuras campañas. En este escenario, el porcentaje de contactación de titulares alcanza el 63.53%."
   ]
  },
  {
   "cell_type": "markdown",
   "metadata": {},
   "source": [
    "5. Según tu análisis, Cuales son las horas en las que mas se realizan llamadas, en las que mas se contestan llamadas y en las que hay mas efectividad?"
   ]
  },
  {
   "cell_type": "markdown",
   "metadata": {},
   "source": [
    "Visualizando los datos, podemos observar que las horas en las que se realizan más llamadas son entre las 10 y las 11 a. m., alcanzando su punto máximo a las 11 a. m.\n",
    "\n",
    "Las horas más efectivas en términos de respuesta y contactabilidad son de 13 a 15 horas. Sin embargo, la efectividad en la generación de compromisos de pago muestra su pico entre las 12 y las 13 horas.\n"
   ]
  },
  {
   "cell_type": "markdown",
   "metadata": {},
   "source": [
    "6. Cuales son los dos días de la semana mas efectivos para realizar las gestiones?"
   ]
  },
  {
   "cell_type": "markdown",
   "metadata": {},
   "source": [
    "Analizando los datos, podemos visualizar que los días más efectivos en términos de cantidad de llamadas contestadas, contactaciones, cantidad de acuerdos y monto de acuerdos son los martes y los miércoles."
   ]
  },
  {
   "cell_type": "markdown",
   "metadata": {},
   "source": [
    "7. Porcentualmente cuales son los motivos de cuelgue en las llamadas?"
   ]
  },
  {
   "cell_type": "markdown",
   "metadata": {},
   "source": [
    "El porcentaje de los motivos de las finalizaciones de las llamadas del mes de septiembre es el siguiente:\n",
    "\n",
    "- 34.39%: Scheduled - Llamado que no ha sido respondido y se agenda para un nuevo intento.\n",
    "- 24.58%: Sent_to_Channel - Llamado sin responder.\n",
    "- 22.34%: Voicemail - Finalización luego del ingreso al correo de voz.\n",
    "- 10.99%: USER_HANGUP - Llamada finalizada por el usuario.\n",
    "- 7.27%: CALL_ENDED_PROPERLY - Llamada finalizada correctamente.\n",
    "- 0.43%: Otro."
   ]
  },
  {
   "cell_type": "markdown",
   "metadata": {},
   "source": [
    "8. Cuales son los nodos en los que están terminando las llamadas no exitosas, pero que son contestadas."
   ]
  },
  {
   "cell_type": "markdown",
   "metadata": {},
   "source": [
    "En el siguiente analisis, se identificaron los nodos en los que están terminando las llamadas no exitosas, pero que son contestadas.\n",
    "Detallo los 3 con la tasa mas alta:\n",
    "\n",
    "Nodo \"5_wont_pay\": En este nodo, un porcentaje significativo de llamadas no exitosas son contestadas. Los usuarios pueden estar expresando su negativa a realizar un pago.\n",
    "\n",
    "Nodo \"4_novalid_date\": También se observa un número considerable de llamadas no exitosas que son contestadas en este nodo. La falta de una fecha válida podría estar contribuyendo a la falta de éxito en estas llamadas.\n",
    "\n",
    "Nodo \"3_payment_yes_today\": Existe un grupo de llamadas no exitosas que se contestan en este nodo. Es posible que algunos usuarios estén manifestando su disposición a realizar un pago, pero no logran completar el acuerdo."
   ]
  }
 ],
 "metadata": {
  "kernelspec": {
   "display_name": "Python 3",
   "language": "python",
   "name": "python3"
  },
  "language_info": {
   "codemirror_mode": {
    "name": "ipython",
    "version": 3
   },
   "file_extension": ".py",
   "mimetype": "text/x-python",
   "name": "python",
   "nbconvert_exporter": "python",
   "pygments_lexer": "ipython3",
   "version": "3.11.5"
  }
 },
 "nbformat": 4,
 "nbformat_minor": 2
}
