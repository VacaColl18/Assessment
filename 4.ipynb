{
 "cells": [
  {
   "cell_type": "markdown",
   "metadata": {},
   "source": [
    "4. De las llamadas contestadas se espera que al menos el 50% sean titulares, cuéntanos en el mes de septiembre, según tu análisis como estuvo este resultado?"
   ]
  },
  {
   "cell_type": "code",
   "execution_count": 1,
   "metadata": {},
   "outputs": [],
   "source": [
    "#importo las librerias necesarias para responder la pregunta\n",
    "\n",
    "import pandas as pd\n",
    "import seaborn as sns\n",
    "import matplotlib.pyplot as plt\n",
    "import warnings\n",
    "warnings.filterwarnings('ignore') "
   ]
  },
  {
   "cell_type": "code",
   "execution_count": 2,
   "metadata": {},
   "outputs": [],
   "source": [
    "# importo el dataset\n",
    "\n",
    "df_clean = pd.read_csv(r\"data/df_clean.csv\", sep=\";\")"
   ]
  },
  {
   "cell_type": "code",
   "execution_count": 3,
   "metadata": {},
   "outputs": [
    {
     "data": {
      "text/plain": [
       "55.09306260575296"
      ]
     },
     "execution_count": 3,
     "metadata": {},
     "output_type": "execute_result"
    }
   ],
   "source": [
    "# Filtro las llamadas contestadas\n",
    "contestadas_true = df_clean[df_clean['Contacted'] == True]\n",
    "\n",
    "\n",
    "# Calculo el porcentaje de llamadas contestadas\n",
    "contestadas = len(contestadas_true)\n",
    "contacto_si = len(contestadas_true[contestadas_true['contactability_type'] == 'Contacto sí'])\n",
    "porcentaje_contacto_si = (contacto_si / contestadas) * 100\n",
    "\n",
    "porcentaje_contacto_si"
   ]
  },
  {
   "cell_type": "code",
   "execution_count": 4,
   "metadata": {},
   "outputs": [
    {
     "data": {
      "text/plain": [
       "56.852791878172596"
      ]
     },
     "execution_count": 4,
     "metadata": {},
     "output_type": "execute_result"
    }
   ],
   "source": [
    "\n",
    "# Calculo el porcentaje de llamadas contestadas mediante \"contact_confirmed\"\n",
    "contestadas_confirmadas = len(contestadas_true)\n",
    "contacto_si = len(contestadas_true[contestadas_true['contact_confirmed'] == True])\n",
    "porcentaje_contacto_si_confirmadas = (contacto_si / contestadas_confirmadas) * 100\n",
    "\n",
    "porcentaje_contacto_si_confirmadas"
   ]
  },
  {
   "cell_type": "code",
   "execution_count": 5,
   "metadata": {},
   "outputs": [
    {
     "data": {
      "text/plain": [
       "63.52900312608545"
      ]
     },
     "execution_count": 5,
     "metadata": {},
     "output_type": "execute_result"
    }
   ],
   "source": [
    "# Ordeno el DataFrame por \"Phone\" y \"DATE\" en orden descendente (el más reciente primero)\n",
    "contestadas_true = contestadas_true.sort_values(by=['Phone', 'date'], ascending=[True, False])\n",
    "\n",
    "# Identifico registros duplicados en la columna \"Phone\"\n",
    "duplicates = contestadas_true.duplicated(subset='Phone', keep=False)\n",
    "\n",
    "# Identifico registros con 'contact_confirmed' igual a True\n",
    "confirmed = contestadas_true['contact_confirmed'] == True\n",
    "\n",
    "# Identifico registros con 'contact_confirmed' igual a False\n",
    "not_confirmed = contestadas_true['contact_confirmed'] == False\n",
    "\n",
    "# Elimino los valores repetidos en la columna \"Phone\", teniendo en cuenta que solo quiero conservar el mas reciente que sea True en la columna contact_confirmed, o el mas reciente si son todos False\n",
    "result_true = contestadas_true[confirmed].sort_values(by=['Phone', 'date'], ascending=[True, False]).drop_duplicates(subset='Phone', keep='first')\n",
    "result_false = contestadas_true[not_confirmed].sort_values(by=['Phone', 'date'], ascending=[True, False]).drop_duplicates(subset='Phone', keep='first')\n",
    "result_mixed = contestadas_true[duplicates & (confirmed)].sort_values(by=['Phone', 'date'], ascending=[True, False]).drop_duplicates(subset='Phone', keep='first')\n",
    "\n",
    "# Concateno los resultados en un solo DataFrame\n",
    "contestadas_filtered = pd.concat([result_true, result_false, result_mixed])\n",
    "\n",
    "# Calcular el porcentaje de \"Contacto SI\" basado en estos datos\n",
    "total_contacted = len(contestadas_filtered)\n",
    "contacto_si_unicos = len(contestadas_filtered[contestadas_filtered['contact_confirmed'] == True])\n",
    "porcentaje_contacto_si_unicos = (contacto_si_unicos / total_contacted) * 100\n",
    "\n",
    "porcentaje_contacto_si_unicos"
   ]
  },
  {
   "cell_type": "code",
   "execution_count": 6,
   "metadata": {},
   "outputs": [
    {
     "data": {
      "image/png": "[encoded data removed]",
      "text/plain": [
       "<Figure size 640x480 with 1 Axes>"
      ]
     },
     "metadata": {},
     "output_type": "display_data"
    }
   ],
   "source": [
    "# cuento los valores de 'contact_confirmed'\n",
    "confirmed_count = contestadas_filtered[contestadas_filtered['contact_confirmed'] == True]['contact_confirmed'].count()\n",
    "not_confirmed_count = contestadas_filtered[contestadas_filtered['contact_confirmed'] == False]['contact_confirmed'].count()\n",
    "\n",
    "labels = ['Titular', 'Otro']\n",
    "sizes = [confirmed_count, not_confirmed_count]\n",
    "colors = ['#66b3ff', '#99ff99']\n",
    "\n",
    "\n",
    "fig, ax = plt.subplots()\n",
    "ax.pie(sizes, labels=labels, colors=colors, autopct='%1.1f%%', startangle=90, pctdistance=0.85)\n",
    "centre_circle = plt.Circle((0, 0), 0.60, fc='white')\n",
    "fig.gca().add_artist(centre_circle)\n",
    "ax.set_title(\"Porcentaje de contacto a titulares\")\n",
    "\n",
    "plt.axis('equal')\n",
    "plt.show()"
   ]
  },
  {
   "cell_type": "markdown",
   "metadata": {},
   "source": [
    "En general, el porcentaje de llamadas contestadas fue del 55.09%. Considerando el campo \"contactability_type\" en el que, según el diccionario de datos, \"Contacto Sí\" confirma que se trata de un usuario titular.\n",
    "\n",
    "Luego incluyo registros donde la titularidad se confirma a través de la columna \"contact_confirmed,\" en este caso, se obtiene un resultado del 56.86%.\n",
    "\n",
    "Continuando con el enfoque en el índice de contactabilidad, se procedió a eliminar las llamadas duplicadas que podrían distorsionar los datos. Esto se debe a que en las llamadas en las que el usuario no confirma ser titular o en las que atiende otra persona, es probable que se realicen nuevos intentos de llamada en futuras campañas. En este escenario, el porcentaje de contactación de titulares alcanza el 63.53%."
   ]
  }
 ],
 "metadata": {
  "kernelspec": {
   "display_name": "Python 3",
   "language": "python",
   "name": "python3"
  },
  "language_info": {
   "codemirror_mode": {
    "name": "ipython",
    "version": 3
   },
   "file_extension": ".py",
   "mimetype": "text/x-python",
   "name": "python",
   "nbconvert_exporter": "python",
   "pygments_lexer": "ipython3",
   "version": "3.11.5"
  }
 },
 "nbformat": 4,
 "nbformat_minor": 2
}
